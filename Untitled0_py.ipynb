{
  "nbformat": 4,
  "nbformat_minor": 0,
  "metadata": {
    "colab": {
      "provenance": [],
      "authorship_tag": "ABX9TyNSY4fPmLKI7R3QOI20472C",
      "include_colab_link": true
    },
    "kernelspec": {
      "name": "python3",
      "display_name": "Python 3"
    },
    "language_info": {
      "name": "python"
    }
  },
  "cells": [
    {
      "cell_type": "markdown",
      "metadata": {
        "id": "view-in-github",
        "colab_type": "text"
      },
      "source": [
        "<a href=\"https://colab.research.google.com/github/Faceless390/clubhouse-unfollowers/blob/master/Untitled0_py.ipynb\" target=\"_parent\"><img src=\"https://colab.research.google.com/assets/colab-badge.svg\" alt=\"Open In Colab\"/></a>"
      ]
    },
    {
      "cell_type": "code",
      "source": [
        "print(\"Student Details\")\n",
        "name = input(\"Enter Student name : \")\n",
        "age = str(input(\"Enter student age : \"))\n",
        "mark = str(input(\"Enter student mark : \"))\n",
        "status = input(\"Status : \")\n",
        "print(\"NAME : \" +name)\n",
        "print(\"AGE :\" +age)\n",
        "print(\"MARK :\" +mark) \n",
        "print(\"STATUS :\" +status)\n"
      ],
      "metadata": {
        "colab": {
          "base_uri": "https://localhost:8080/"
        },
        "id": "wt47TmkfBfgd",
        "outputId": "3b45ee9a-987f-4953-dc6d-ee71d0fa057c"
      },
      "execution_count": 2,
      "outputs": [
        {
          "output_type": "stream",
          "name": "stdout",
          "text": [
            "Student Details\n",
            "Enter Student name : kichu\n",
            "Enter student age : 23\n",
            "Enter student mark : 234\n",
            "Status : active\n",
            "NAME : kichu\n",
            "AGE :23\n",
            "MARK :234\n",
            "STATUS :active\n"
          ]
        }
      ]
    }
  ]
}